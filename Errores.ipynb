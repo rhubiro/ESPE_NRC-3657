{
 "cells": [
  {
   "cell_type": "markdown",
   "id": "c8313a62",
   "metadata": {},
   "source": [
    "## Cálculo del error relativo, error absoluto, error porcentual y las cifras significativas para los siguientes casos:\n",
    "\n",
    "$$ x=0.005429, \\bar{x}=0.00543 \\\\ x=189.3478, \\bar{x}=18.93478 \\\\ x_0=4.367, x_1=4.3689$$"
   ]
  },
  {
   "cell_type": "markdown",
   "id": "0d53339e",
   "metadata": {},
   "source": [
    "## valores"
   ]
  },
  {
   "cell_type": "code",
   "execution_count": 24,
   "id": "b74ee194",
   "metadata": {},
   "outputs": [],
   "source": [
    "x_1=0.005429\n",
    "x_2=0.00543\n",
    "x_3=189.3478\n",
    "x_4=18.93478\n",
    "x0=4.367\n",
    "x1=4.3689"
   ]
  },
  {
   "cell_type": "markdown",
   "id": "7ac8a7b9",
   "metadata": {},
   "source": [
    "## Error relativo\n",
    "$$e_{rel}=\\displaystyle\\frac{\\left|x-\\bar{x}\\right|}{\\left|x\\right|}$$"
   ]
  },
  {
   "cell_type": "code",
   "execution_count": 44,
   "id": "e26a7c54",
   "metadata": {},
   "outputs": [
    {
     "name": "stdout",
     "output_type": "stream",
     "text": [
      "El error relativo entre 0.005429 y 0.00543 es =  0.00018419598452756175\n",
      "El error relativo entre 189.3478 y 18.93478 es =  0.9\n",
      "El error relativo entre 0.005429 y 0.00543 con 5 cifras significativas es =  0.00018\n",
      "El error relativo entre 189.3478 y 18.93478 con 5 cifras significativas es =  0.9\n"
     ]
    }
   ],
   "source": [
    "e_rel_1=abs((x_1-x_2)/x_1)\n",
    "e_rel_2=abs((x_3-x_4)/x_3)\n",
    "print(\"El error relativo entre 0.005429 y 0.00543 es = \",e_rel_1)\n",
    "print(\"El error relativo entre 189.3478 y 18.93478 es = \",e_rel_2)\n",
    "print(\"El error relativo entre 0.005429 y 0.00543 con 5 cifras significativas es = \",round(e_rel_1,5))\n",
    "print(\"El error relativo entre 189.3478 y 18.93478 con 5 cifras significativas es = \",round(e_rel_2,5))\n"
   ]
  },
  {
   "cell_type": "markdown",
   "id": "bd3e7499",
   "metadata": {},
   "source": [
    "## Error absoluto\n",
    "$$e_{abs}=\\left|x-\\bar{x}\\right|$$"
   ]
  },
  {
   "cell_type": "code",
   "execution_count": 42,
   "id": "68b711c5",
   "metadata": {},
   "outputs": [
    {
     "name": "stdout",
     "output_type": "stream",
     "text": [
      "El error absoluto entre 0.005429 y 0.00543 es =  1.0000000000001327e-06\n",
      "El error absoluto entre 189.3478 y 18.93478 es =  170.41302000000002\n",
      "El error absoluto entre 0.005429 y 0.00543 con 5 cifras significativas es =  1e-06\n",
      "El error absoluto entre 189.3478 y 18.93478 con 5 cifras significativas es =  170.41302\n"
     ]
    }
   ],
   "source": [
    "e_abs_1=abs(x_1-x_2)\n",
    "e_abs_2=abs(x_3-x_4)\n",
    "print(\"El error absoluto entre 0.005429 y 0.00543 es = \",e_abs_1)\n",
    "print(\"El error absoluto entre 189.3478 y 18.93478 es = \",e_abs_2)\n",
    "print(\"El error absoluto entre 0.005429 y 0.00543 con 10 cifras significativas es = \",round(e_abs_1,10))\n",
    "print(\"El error absoluto entre 189.3478 y 18.93478 con 10 cifras significativas es = \",round(e_abs_2,10))"
   ]
  },
  {
   "cell_type": "markdown",
   "id": "fe297579",
   "metadata": {},
   "source": [
    "## Error porcentual\n",
    "$$e_{porcentual}=e_{abs}*100$$"
   ]
  },
  {
   "cell_type": "code",
   "execution_count": 46,
   "id": "e0b71518",
   "metadata": {},
   "outputs": [
    {
     "name": "stdout",
     "output_type": "stream",
     "text": [
      "El error porcentual entre 0.005429 y 0.00543 es =  0.00010000000000001327  %\n",
      "El error porcentual entre 189.3478 y 18.93478 es =  17041.302000000003  %\n",
      "El error porcentual entre 0.005429 y 0.00543 con 10 cifras significativas es =  0.0001  %\n",
      "El error porcentual entre 189.3478 y 18.93478 con 10 cifras significativas es =  17041.302  %\n"
     ]
    }
   ],
   "source": [
    "e_porcentual_1=e_abs_1*100\n",
    "e_porcentual_2=e_abs_2*100\n",
    "print(\"El error porcentual entre 0.005429 y 0.00543 es = \",e_porcentual_1,\" %\")\n",
    "print(\"El error porcentual entre 189.3478 y 18.93478 es = \",e_porcentual_2,\" %\")\n",
    "print(\"El error porcentual entre 0.005429 y 0.00543 con 10 cifras significativas es = \",round(e_porcentual_1,10),\" %\")\n",
    "print(\"El error porcentual entre 189.3478 y 18.93478 con 10 cifras significativas es = \",round(e_porcentual_2,10),\" %\")"
   ]
  },
  {
   "cell_type": "markdown",
   "id": "d90476b0",
   "metadata": {},
   "source": [
    "## Error aproximado\n",
    "$$e_{aprox}={\\displaystyle\\frac{\\left|x_i-x_{i-1}\\right|}{\\left|x_i\\right|}}*100$$"
   ]
  },
  {
   "cell_type": "code",
   "execution_count": 45,
   "id": "81b14754",
   "metadata": {},
   "outputs": [
    {
     "name": "stdout",
     "output_type": "stream",
     "text": [
      "El error aproximado entre x0=4.367 y x1=4.3689 es 0.04348920780974645\n",
      "El error aproximado entre x0=4.367 y x1=4.3689 con 5 cifras significativas es  0.04349\n"
     ]
    }
   ],
   "source": [
    "e_aprox=abs((x1-x0)/x1)*100\n",
    "print(\"El error aproximado entre x0=4.367 y x1=4.3689 es\",e_aprox)\n",
    "print(\"El error aproximado entre x0=4.367 y x1=4.3689 con 5 cifras significativas es \",round(e_aprox,5))"
   ]
  },
  {
   "cell_type": "code",
   "execution_count": null,
   "id": "f32c90a2",
   "metadata": {},
   "outputs": [],
   "source": []
  }
 ],
 "metadata": {
  "kernelspec": {
   "display_name": "Python 3",
   "language": "python",
   "name": "python3"
  },
  "language_info": {
   "codemirror_mode": {
    "name": "ipython",
    "version": 3
   },
   "file_extension": ".py",
   "mimetype": "text/x-python",
   "name": "python",
   "nbconvert_exporter": "python",
   "pygments_lexer": "ipython3",
   "version": "3.8.8"
  }
 },
 "nbformat": 4,
 "nbformat_minor": 5
}
