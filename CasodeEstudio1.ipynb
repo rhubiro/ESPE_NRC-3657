{
 "cells": [
  {
   "cell_type": "markdown",
   "id": "da57f455",
   "metadata": {},
   "source": [
    "# Problema\n",
    "# 1. En el libro Numerical Mathematics and Computing de Cheney y Kincaid, observe el ejercicio 4, literal a de la página 288 (el libro se encuentra en el enlace proporcionado en la sección Sitios).\n",
    "# 2. Utilice el siguiente código para resolver el ejercicio (utilizando un sistema de cien ecuaciones y cien incógnitas). El código es del mismo libro."
   ]
  },
  {
   "cell_type": "code",
   "execution_count": 1,
   "id": "33395c37",
   "metadata": {},
   "outputs": [],
   "source": [
    "import numpy as np\n",
    "def tridiag(n,d,a,c,b):\n",
    "    x = np.zeros(n)\n",
    "    for i in range(1,n-1):\n",
    "        mult = a[i-1]/d[i-1]\n",
    "        d[i] -= mult*c[i-1]\n",
    "        b[i] -= mult*b[i-1]\n",
    "    print(d)\n",
    "    # Cálculo del error relativo\n",
    "    x[n-1] = b[n-1]/d[n-1]\n",
    "    for i in range(n-2,-1,-1):\n",
    "        x[i] = (b[i]-c[i]*x[i+1])/d[i] # Corrijo el operando que estaba en multiplicación por la división\n",
    "    return x"
   ]
  },
  {
   "cell_type": "markdown",
   "id": "7cd0255d",
   "metadata": {},
   "source": [
    "# Use el procedimiento Tri para resolver el siguiente sistema de 100 ecuaciones. Compare la solución numérica con la obvia solución exacta.\n",
    "\\\\begin{cases}\n",
    "\\hphantom{-}x_1 + 0.5x{_2} \\qquad\\qquad = 1.5 & \\\\\n",
    "0.5x_i{_-{_1}} + x_i + x_i{_+{_1}} \\quad= 2\\qquad(2\\leq j\\leq n-1) & \\\\\n",
    "\\qquad 0.5x_9{_9}+x_1{_0{_0}} \\quad= 1.5\n",
    "\\end{cases}"
   ]
  },
  {
   "cell_type": "code",
   "execution_count": 2,
   "id": "f1b813f3",
   "metadata": {},
   "outputs": [
    {
     "name": "stdout",
     "output_type": "stream",
     "text": [
      "Vector superdiagonal\n",
      "\n",
      " [0.5 0.5 0.5 0.5 0.5 0.5 0.5 0.5 0.5 0.5 0.5 0.5 0.5 0.5 0.5 0.5 0.5 0.5\n",
      " 0.5 0.5 0.5 0.5 0.5 0.5 0.5 0.5 0.5 0.5 0.5 0.5 0.5 0.5 0.5 0.5 0.5 0.5\n",
      " 0.5 0.5 0.5 0.5 0.5 0.5 0.5 0.5 0.5 0.5 0.5 0.5 0.5 0.5 0.5 0.5 0.5 0.5\n",
      " 0.5 0.5 0.5 0.5 0.5 0.5 0.5 0.5 0.5 0.5 0.5 0.5 0.5 0.5 0.5 0.5 0.5 0.5\n",
      " 0.5 0.5 0.5 0.5 0.5 0.5 0.5 0.5 0.5 0.5 0.5 0.5 0.5 0.5 0.5 0.5 0.5 0.5\n",
      " 0.5 0.5 0.5 0.5 0.5 0.5 0.5 0.5 0.5 0.5] \n",
      "\n",
      "Vector diagonal\n",
      "\n",
      " [1. 1. 1. 1. 1. 1. 1. 1. 1. 1. 1. 1. 1. 1. 1. 1. 1. 1. 1. 1. 1. 1. 1. 1.\n",
      " 1. 1. 1. 1. 1. 1. 1. 1. 1. 1. 1. 1. 1. 1. 1. 1. 1. 1. 1. 1. 1. 1. 1. 1.\n",
      " 1. 1. 1. 1. 1. 1. 1. 1. 1. 1. 1. 1. 1. 1. 1. 1. 1. 1. 1. 1. 1. 1. 1. 1.\n",
      " 1. 1. 1. 1. 1. 1. 1. 1. 1. 1. 1. 1. 1. 1. 1. 1. 1. 1. 1. 1. 1. 1. 1. 1.\n",
      " 1. 1. 1. 1.] \n",
      "\n",
      "Vector subdiagonal\n",
      "\n",
      " [0.5 0.5 0.5 0.5 0.5 0.5 0.5 0.5 0.5 0.5 0.5 0.5 0.5 0.5 0.5 0.5 0.5 0.5\n",
      " 0.5 0.5 0.5 0.5 0.5 0.5 0.5 0.5 0.5 0.5 0.5 0.5 0.5 0.5 0.5 0.5 0.5 0.5\n",
      " 0.5 0.5 0.5 0.5 0.5 0.5 0.5 0.5 0.5 0.5 0.5 0.5 0.5 0.5 0.5 0.5 0.5 0.5\n",
      " 0.5 0.5 0.5 0.5 0.5 0.5 0.5 0.5 0.5 0.5 0.5 0.5 0.5 0.5 0.5 0.5 0.5 0.5\n",
      " 0.5 0.5 0.5 0.5 0.5 0.5 0.5 0.5 0.5 0.5 0.5 0.5 0.5 0.5 0.5 0.5 0.5 0.5\n",
      " 0.5 0.5 0.5 0.5 0.5 0.5 0.5 0.5 0.5 0.5] \n",
      "\n",
      "Vector de términos independientes\n",
      "\n",
      " [1.5 2.  2.  2.  2.  2.  2.  2.  2.  2.  2.  2.  2.  2.  2.  2.  2.  2.\n",
      " 2.  2.  2.  2.  2.  2.  2.  2.  2.  2.  2.  2.  2.  2.  2.  2.  2.  2.\n",
      " 2.  2.  2.  2.  2.  2.  2.  2.  2.  2.  2.  2.  2.  2.  2.  2.  2.  2.\n",
      " 2.  2.  2.  2.  2.  2.  2.  2.  2.  2.  2.  2.  2.  2.  2.  2.  2.  2.\n",
      " 2.  2.  2.  2.  2.  2.  2.  2.  2.  2.  2.  2.  2.  2.  2.  2.  2.  2.\n",
      " 2.  2.  2.  2.  2.  2.  2.  2.  2.  1.5] \n",
      "\n",
      "[1.         0.75       0.66666667 0.625      0.6        0.58333333\n",
      " 0.57142857 0.5625     0.55555556 0.55       0.54545455 0.54166667\n",
      " 0.53846154 0.53571429 0.53333333 0.53125    0.52941176 0.52777778\n",
      " 0.52631579 0.525      0.52380952 0.52272727 0.52173913 0.52083333\n",
      " 0.52       0.51923077 0.51851852 0.51785714 0.51724138 0.51666667\n",
      " 0.51612903 0.515625   0.51515152 0.51470588 0.51428571 0.51388889\n",
      " 0.51351351 0.51315789 0.51282051 0.5125     0.51219512 0.51190476\n",
      " 0.51162791 0.51136364 0.51111111 0.51086957 0.5106383  0.51041667\n",
      " 0.51020408 0.51       0.50980392 0.50961538 0.50943396 0.50925926\n",
      " 0.50909091 0.50892857 0.50877193 0.50862069 0.50847458 0.50833333\n",
      " 0.50819672 0.50806452 0.50793651 0.5078125  0.50769231 0.50757576\n",
      " 0.50746269 0.50735294 0.50724638 0.50714286 0.50704225 0.50694444\n",
      " 0.50684932 0.50675676 0.50666667 0.50657895 0.50649351 0.50641026\n",
      " 0.50632911 0.50625    0.50617284 0.50609756 0.5060241  0.50595238\n",
      " 0.50588235 0.50581395 0.50574713 0.50568182 0.50561798 0.50555556\n",
      " 0.50549451 0.50543478 0.50537634 0.50531915 0.50526316 0.50520833\n",
      " 0.50515464 0.50510204 0.50505051 1.        ]\n"
     ]
    },
    {
     "data": {
      "text/plain": [
       "array([0.995, 1.01 , 0.985, 1.02 , 0.975, 1.03 , 0.965, 1.04 , 0.955,\n",
       "       1.05 , 0.945, 1.06 , 0.935, 1.07 , 0.925, 1.08 , 0.915, 1.09 ,\n",
       "       0.905, 1.1  , 0.895, 1.11 , 0.885, 1.12 , 0.875, 1.13 , 0.865,\n",
       "       1.14 , 0.855, 1.15 , 0.845, 1.16 , 0.835, 1.17 , 0.825, 1.18 ,\n",
       "       0.815, 1.19 , 0.805, 1.2  , 0.795, 1.21 , 0.785, 1.22 , 0.775,\n",
       "       1.23 , 0.765, 1.24 , 0.755, 1.25 , 0.745, 1.26 , 0.735, 1.27 ,\n",
       "       0.725, 1.28 , 0.715, 1.29 , 0.705, 1.3  , 0.695, 1.31 , 0.685,\n",
       "       1.32 , 0.675, 1.33 , 0.665, 1.34 , 0.655, 1.35 , 0.645, 1.36 ,\n",
       "       0.635, 1.37 , 0.625, 1.38 , 0.615, 1.39 , 0.605, 1.4  , 0.595,\n",
       "       1.41 , 0.585, 1.42 , 0.575, 1.43 , 0.565, 1.44 , 0.555, 1.45 ,\n",
       "       0.545, 1.46 , 0.535, 1.47 , 0.525, 1.48 , 0.515, 1.49 , 0.505,\n",
       "       1.5  ])"
      ]
     },
     "execution_count": 2,
     "metadata": {},
     "output_type": "execute_result"
    }
   ],
   "source": [
    "n=100 # número de ecuaciones\n",
    "a=0.5*np.ones([100]) # vector subdiagonal con todos sus valores en 0.5\n",
    "b=2*np.ones([100]) # vector de términos independientes con todos sus valores en 2\n",
    "b[0]=b[99]=1.5 # corrijo los extremos del vector de términos independientes\n",
    "c=a # vector superdiagonal igual al vector subdiagonal\n",
    "d=np.ones([100]) # vector diagonal con todos sus valores en 1\n",
    "print(\"Vector superdiagonal\\n\\n\",c,\"\\n\")\n",
    "print(\"Vector diagonal\\n\\n\",d,\"\\n\")\n",
    "print(\"Vector subdiagonal\\n\\n\",a,\"\\n\")\n",
    "print(\"Vector de términos independientes\\n\\n\",b,\"\\n\")\n",
    "tridiag(n,d,a,c,b)"
   ]
  },
  {
   "cell_type": "markdown",
   "id": "6c541e6c",
   "metadata": {},
   "source": [
    "# Comprobación\n",
    "\n",
    "$$x_1 + 0.5x{_2} \\qquad\\qquad = 1.5$$\n",
    "\n",
    "$$Solución\\quad numérica$$\n",
    "\n",
    "$$1 + 0.5*0.75$$\n",
    "\n",
    "$$1 + 0.375 = 1.375 \\neq 1.5$$\n",
    "\n",
    "$$Solución\\quad exacta$$\n",
    "\n",
    "$$1.14314355 + 0.5*0.7137129$$\n",
    "\n",
    "$$1.14314355 + 0.35685645 = 1.5 = 1.5$$"
   ]
  },
  {
   "cell_type": "code",
   "execution_count": null,
   "id": "a05c9270",
   "metadata": {},
   "outputs": [],
   "source": []
  }
 ],
 "metadata": {
  "kernelspec": {
   "display_name": "Python 3",
   "language": "python",
   "name": "python3"
  },
  "language_info": {
   "codemirror_mode": {
    "name": "ipython",
    "version": 3
   },
   "file_extension": ".py",
   "mimetype": "text/x-python",
   "name": "python",
   "nbconvert_exporter": "python",
   "pygments_lexer": "ipython3",
   "version": "3.8.8"
  }
 },
 "nbformat": 4,
 "nbformat_minor": 5
}
