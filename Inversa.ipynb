{
 "cells": [
  {
   "cell_type": "code",
   "execution_count": 1,
   "id": "2df75651",
   "metadata": {},
   "outputs": [
    {
     "name": "stdout",
     "output_type": "stream",
     "text": [
      "Programa que calcula la matriz inversa de una matriz dada de 2x2\n",
      "\n",
      "Ingreso de los datos de la matriz\n",
      "\n",
      " Digite el dato de la fila 1, columna 1 : 2\n",
      " Digite el dato de la fila 1, columna 2 : 1\n",
      " Digite el dato de la fila 2, columna 1 : 5\n",
      " Digite el dato de la fila 2, columna 2 : 3\n",
      "\n",
      "\tLa matriz invertida es\n",
      "\n",
      "\t [3.]\t [-1.]\n",
      "\n",
      "\t [-5.]\t [2.]\n",
      "\n"
     ]
    }
   ],
   "source": [
    "import numpy as np\n",
    "print(\"Programa que calcula la matriz inversa de una matriz dada de 2x2\\n\")\n",
    "print(\"Ingreso de los datos de la matriz\\n\")\n",
    "n=2 #Porque se trabaja con una matriz A de 2x2\n",
    "\n",
    "#Definición de las matrices que empleo\n",
    "\n",
    "matrizA=[]\n",
    "matrizT=[]\n",
    "matrizAdj=[]\n",
    "matrizA_Inversa=[]\n",
    "det=0 #Variable dónde se almacenará el valor del determinante de la matriz A\n",
    "\n",
    "#Llenado inicial de las matrices con ceros\n",
    "\n",
    "for i in range(n):\n",
    "    matrizA.append([0]*n)\n",
    "    matrizT.append([0]*n)\n",
    "    matrizAdj.append([0]*n)\n",
    "    matrizA_Inversa.append([0]*n)\n",
    "\n",
    "#Ingreso de datos en la matriz A mediante teclado\n",
    "\n",
    "for i in range(n):\n",
    "    #print(i)\n",
    "    for j in range(n):\n",
    "        matrizA[i][j]=float(input(\" Digite el dato de la fila {}, columna {} : \".format(i+1,j+1)))\n",
    "        \n",
    "det=np.linalg.det(matrizA) #Cálculo del determinante de la matriz A haciendo uso de numpy\n",
    "#print(det)\n",
    "\n",
    "#Cálculo de la matriz inversa\n",
    "\n",
    "if det!=0:\n",
    "    for i in range(n):\n",
    "        for j in range(n):\n",
    "            matrizT[i][j]=matrizA[j][i] #Matriz transpuesta de nuestra matriz A\n",
    "    for i in range(n):\n",
    "        for j in range(n):\n",
    "            matrizAdj[i][j]=[((-1)**(i+j))*matrizT[1-i][1-j]] #Matriz adjunta de nuestra matriz A transpuesta\n",
    "            #print(matrizA[i][j],matrizT[i][j],matrizAdj[i][j])\n",
    "            matrizA_Inversa[i][j]=matrizAdj[i][j]/det\n",
    "    print(\"\\n\\tLa matriz invertida es\\n\")\n",
    "    for i in range(n):\n",
    "        for j in range(n):\n",
    "            print(\"\\t\",matrizA_Inversa[i][j],end=\"\")\n",
    "        print(\"\\n\")\n",
    "else: print(\"\\nLa matriz dada no es invertible\")\n"
   ]
  },
  {
   "cell_type": "code",
   "execution_count": null,
   "id": "7ec4928d",
   "metadata": {},
   "outputs": [],
   "source": []
  }
 ],
 "metadata": {
  "kernelspec": {
   "display_name": "Python 3",
   "language": "python",
   "name": "python3"
  },
  "language_info": {
   "codemirror_mode": {
    "name": "ipython",
    "version": 3
   },
   "file_extension": ".py",
   "mimetype": "text/x-python",
   "name": "python",
   "nbconvert_exporter": "python",
   "pygments_lexer": "ipython3",
   "version": "3.8.8"
  }
 },
 "nbformat": 4,
 "nbformat_minor": 5
}
