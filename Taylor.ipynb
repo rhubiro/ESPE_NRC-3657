{
 "cells": [
  {
   "cell_type": "markdown",
   "id": "115a21f9",
   "metadata": {},
   "source": [
    "# Serie de Taylor\n",
    "$$\\displaystyle\\sum_{n=0}^\\infty \\frac{f^{(n)}(c)}{n!}(x-c)^n$$"
   ]
  },
  {
   "cell_type": "markdown",
   "id": "cd98423a",
   "metadata": {},
   "source": [
    "# Serie de Taylor para la función seno\n",
    "$$sen(x)=\\displaystyle\\sum_{n=0}^\\infty \\frac{(-1)^{(n)}}{(2n+1)!}x^{(2n+1)}$$"
   ]
  },
  {
   "cell_type": "markdown",
   "id": "20b72cb1",
   "metadata": {},
   "source": [
    "# Declaración de variables"
   ]
  },
  {
   "cell_type": "code",
   "execution_count": 1,
   "id": "f34f3afa",
   "metadata": {},
   "outputs": [],
   "source": [
    "import numpy as np\n",
    "n=0\n",
    "senx=0"
   ]
  },
  {
   "cell_type": "markdown",
   "id": "0e0af596",
   "metadata": {},
   "source": [
    "# Ingreso de ángulo"
   ]
  },
  {
   "cell_type": "code",
   "execution_count": 2,
   "id": "99b2c30f",
   "metadata": {},
   "outputs": [
    {
     "name": "stdout",
     "output_type": "stream",
     "text": [
      "Digite el valor del ángulo del que desea conocer el seno\n",
      "60\n"
     ]
    }
   ],
   "source": [
    "print(\"Digite el valor del ángulo del que desea conocer el seno\")\n",
    "x=float(input())\n",
    "#print(\"El ángulo ingresado es \",x)"
   ]
  },
  {
   "cell_type": "markdown",
   "id": "68bd8f7f",
   "metadata": {},
   "source": [
    "# Cálculo del seno del ángulo con 50 iteraciones"
   ]
  },
  {
   "cell_type": "code",
   "execution_count": 3,
   "id": "d364ce0e",
   "metadata": {},
   "outputs": [
    {
     "name": "stdout",
     "output_type": "stream",
     "text": [
      "El valor aproximado de sen( 60.0 ) es = 0.8660254037844385\n"
     ]
    }
   ],
   "source": [
    "y=60*np.math.pi/180\n",
    "while(n!=50):\n",
    "    signo=(-1)**n\n",
    "    k=2*n+1\n",
    "    senx=senx+signo*y**k/np.math.factorial(k)\n",
    "    n=n+1\n",
    "print(\"El valor aproximado de sen(\",x,\") es =\",senx)"
   ]
  },
  {
   "cell_type": "code",
   "execution_count": null,
   "id": "3d9edb31",
   "metadata": {},
   "outputs": [],
   "source": []
  }
 ],
 "metadata": {
  "kernelspec": {
   "display_name": "Python 3",
   "language": "python",
   "name": "python3"
  },
  "language_info": {
   "codemirror_mode": {
    "name": "ipython",
    "version": 3
   },
   "file_extension": ".py",
   "mimetype": "text/x-python",
   "name": "python",
   "nbconvert_exporter": "python",
   "pygments_lexer": "ipython3",
   "version": "3.8.8"
  }
 },
 "nbformat": 4,
 "nbformat_minor": 5
}
