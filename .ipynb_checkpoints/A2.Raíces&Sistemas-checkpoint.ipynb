{
 "cells": [
  {
   "cell_type": "markdown",
   "id": "f6ab3a47",
   "metadata": {},
   "source": [
    "# Ejercicios\n",
    "\n",
    "# 1. Utilice todos los métodos estudiados (Newton, Bisección y Secante) para encontrar la raíz de la siguiente función: f(x) = x + cos x en el intervalo [-2;0], con cuatro cifras decimales."
   ]
  },
  {
   "cell_type": "code",
   "execution_count": 1,
   "id": "c7e8b6b7",
   "metadata": {},
   "outputs": [],
   "source": [
    "import numpy as np\n",
    "def newton(f,df,x0,nmax,tol):\n",
    "    xi = x0\n",
    "    for i in range(0,nmax):\n",
    "        xi = xi - f(xi)/df(xi)\n",
    "        if abs(f(xi)) < tol:\n",
    "            print('\\nLa raíz por el método de Newton es x = ',xi,' encontrada en ',i,' iteraciones\\n')\n",
    "            break\n",
    "    return None"
   ]
  },
  {
   "cell_type": "code",
   "execution_count": 2,
   "id": "78bbd38a",
   "metadata": {},
   "outputs": [],
   "source": [
    "def biseccion(f,a,b,tol,nmax):\n",
    "    for i in range(1,nmax):\n",
    "        if np.sign(f(a)) == np.sign(f(b)):\n",
    "            print(\"\\nLa raíz no está en el intervalo especificado\\n\")\n",
    "            return\n",
    "        \n",
    "        m = (a + b)/2\n",
    "        \n",
    "        if abs(f(m)) < tol:\n",
    "            return m\n",
    "        elif np.sign(f(a)) == np.sign(f(m)):\n",
    "            a = m\n",
    "        #elif np.sign(f(b)) == np.sign(f(m)):\n",
    "        else:\n",
    "            b = m\n",
    "        i += i"
   ]
  },
  {
   "cell_type": "code",
   "execution_count": 3,
   "id": "d6dc412b",
   "metadata": {},
   "outputs": [],
   "source": [
    "def biseccion2(f,a,b,tol): \n",
    "    if np.sign(f(a)) == np.sign(f(b)):\n",
    "        print(\"\\nLa raíz no está en el intervalo especificado\\n\")\n",
    "        return\n",
    "        \n",
    "    m = (a + b)/2\n",
    "    \n",
    "    if np.abs(f(m)) < tol:\n",
    "        return m\n",
    "    elif np.sign(f(a)) == np.sign(f(m)):\n",
    "        return biseccion2(f, m, b, tol)\n",
    "    elif np.sign(f(b)) == np.sign(f(m)):\n",
    "        return biseccion2(f, a, m, tol)"
   ]
  },
  {
   "cell_type": "code",
   "execution_count": 4,
   "id": "a2e2172d",
   "metadata": {},
   "outputs": [],
   "source": [
    "def secante(f,x0,x1,nmax,tol):\n",
    "    for i in range(0,nmax):\n",
    "        x2 = (x0 * f(x1) - x1 * f(x0))/(f(x1) - f(x0));\n",
    "        if abs(x2 - x1) < tol:\n",
    "            print('\\nLa raíz por el método de la secante es x = ',x2,' encontrada en ',i,' iteraciones\\n')\n",
    "            break\n",
    "        else:\n",
    "            x0 = x1\n",
    "            x1 = x2\n",
    "    return None"
   ]
  },
  {
   "cell_type": "code",
   "execution_count": 5,
   "id": "f0441324",
   "metadata": {},
   "outputs": [],
   "source": [
    "f = lambda x: x + np.cos(x)\n",
    "df = lambda x: 1 - np.sin(x)"
   ]
  },
  {
   "cell_type": "code",
   "execution_count": 6,
   "id": "463c6d5c",
   "metadata": {},
   "outputs": [
    {
     "name": "stdout",
     "output_type": "stream",
     "text": [
      "\n",
      "La raíz por el método de Newton es x =  -0.7390897242053693  encontrada en  1  iteraciones\n",
      "\n"
     ]
    }
   ],
   "source": [
    "newton(f,df,-2,100,0.0001)"
   ]
  },
  {
   "cell_type": "code",
   "execution_count": 7,
   "id": "f5345ff0",
   "metadata": {},
   "outputs": [
    {
     "name": "stdout",
     "output_type": "stream",
     "text": [
      "\n",
      "La raíz por el método de la bisección es x =  -0.7391357421875 \n",
      "\n",
      "\n",
      "error = 4.220260412535204e-05 \n",
      "\n",
      "\n",
      "error = 4.220260412535204e-05 \n",
      "\n"
     ]
    }
   ],
   "source": [
    "r1 = biseccion(f, -2, 0, 0.0001, 100)\n",
    "r2 = biseccion2(f, -2, 0, 0.0001)\n",
    "print('\\nLa raíz por el método de la bisección es x = ',r1,'\\n')\n",
    "print(\"\\nerror =\", np.cos(2.40252)-r1,'\\n') # Consideramos a cos(2.40252)=-0.73909 como el valor real de la raíz a buscar\n",
    "print(\"\\nerror =\", np.cos(2.40252)-r2,'\\n')"
   ]
  },
  {
   "cell_type": "code",
   "execution_count": 8,
   "id": "95394543",
   "metadata": {},
   "outputs": [
    {
     "name": "stdout",
     "output_type": "stream",
     "text": [
      "\n",
      "La raíz por el método de la secante es x =  -0.7390851370199945  encontrada en  4  iteraciones\n",
      "\n"
     ]
    }
   ],
   "source": [
    "secante(f,-2,0,50,0.0001)"
   ]
  },
  {
   "cell_type": "markdown",
   "id": "9486ae3a",
   "metadata": {},
   "source": [
    "# 2. Encuentre la intersección de las siguientes funciones: f(x) = 3 - x y g(x) = ln x, con tres cifras decimales."
   ]
  },
  {
   "cell_type": "code",
   "execution_count": 9,
   "id": "bc9d96cd",
   "metadata": {},
   "outputs": [],
   "source": [
    "import math\n",
    "f = lambda x: 3 - x\n",
    "df = lambda x: -1\n",
    "g = lambda x: math.log(x+1e-30) # agrego a x un valor muy muy pequeño para que evitar el error de división por 0 (cero).\n",
    "dg = lambda x: 1/(x+1e-30)"
   ]
  },
  {
   "cell_type": "code",
   "execution_count": 10,
   "id": "9a6ea673",
   "metadata": {},
   "outputs": [
    {
     "name": "stdout",
     "output_type": "stream",
     "text": [
      "\n",
      "La raíz por el método de Newton es x =  3.0  encontrada en  0  iteraciones\n",
      "\n",
      "\n",
      "La raíz por el método de Newton es x =  0.9999225169723374  encontrada en  2  iteraciones\n",
      "\n"
     ]
    }
   ],
   "source": [
    "newton(f,df,2,100,0.001)\n",
    "newton(g,dg,.5,100,0.001)"
   ]
  },
  {
   "cell_type": "markdown",
   "id": "bf65be9f",
   "metadata": {},
   "source": [
    "# 3. Programe el método de sustitución regresiva. Analice el número de operaciones del algoritmo para matrices de tamaño 3 x 3."
   ]
  },
  {
   "cell_type": "code",
   "execution_count": 11,
   "id": "39523e21",
   "metadata": {},
   "outputs": [
    {
     "name": "stdout",
     "output_type": "stream",
     "text": [
      "\n",
      "La solución es  [-1.         -0.66666667  2.        ] \n",
      "\n"
     ]
    }
   ],
   "source": [
    "# Matriz L\n",
    "L = np.array([[5,3,6],\n",
    "              [0,3,1],\n",
    "              [0,0,2]])\n",
    "\n",
    "\n",
    "# Términos independientes\n",
    "\n",
    "b = np.array([5,\n",
    "              0,\n",
    "              4])\n",
    "n = np.size(b) # Número de ecuaciones\n",
    "x = np.zeros(n) # Vector para las soluciones\n",
    "\n",
    "\n",
    "# Sustitución regresiva\n",
    "\n",
    "x[n-1] = b[n-1]/L[n-1,n-1] # Cálculo de la n-ésima solución\n",
    "for i in range(n-1,-1,-1):\n",
    "    sumj = 0\n",
    "    for j in range (i+1,n,1):\n",
    "        sumj += L[i,j]*x[j]\n",
    "        x[i] = (b[i]-sumj)/L[i,i]\n",
    "print('\\nLa solución es ',x,'\\n')"
   ]
  },
  {
   "cell_type": "markdown",
   "id": "ba34a0a0",
   "metadata": {},
   "source": [
    "# 4. Una importante parte de la física es la termodinámica que es el estudio de la transferencia de calor.\n",
    "# En este ejercicio vamos a determinar la distribución de temperatura de estado estable de una placa delgada cuando se conoce la temperatura en los bordes.\n",
    "# Suponga que la placa que se ilustra en la figura representa una sección transversal de una viga de metal, con flujo de calor despreciable en la dirección perpendicular a la placa. Sean T1, T2, T3 y T4 las temperaturas en los cuatro nodos interiores de la malla en la figura. La temperatura en un nodo es aproximadamente igual al promedio de las temperaturas de los cuatro nodos más cercanos, esto es, a la izquierda, arriba, a la derecha y abajo.\n",
    "# Escriba un sistema de ecuaciones cuya solución de estimaciones de las temperaturas T1, T2, T3 y T4.\n",
    "# Programe el método de eliminación gaussiana y halle el valor de estas temperaturas. Utilice como apoyo el ejercicio del literal anterior."
   ]
  },
  {
   "cell_type": "code",
   "execution_count": 12,
   "id": "9e981cfe",
   "metadata": {},
   "outputs": [
    {
     "name": "stdout",
     "output_type": "stream",
     "text": [
      "\n",
      " [[ 4. -1. -1.  0.]\n",
      " [-1.  4.  0. -1.]\n",
      " [-1.  0.  4. -1.]\n",
      " [ 0. -1. -1.  4.]] \n",
      "\n",
      "\n",
      " [30. 60. 40. 70.] \n",
      "\n",
      "\n",
      "Las soluciones al sistema son\n",
      "\n",
      "[20.  27.5 22.5 30. ]\n"
     ]
    }
   ],
   "source": [
    "import numpy as np\n",
    "\n",
    "A = np.array([[4., -1., -1.,  0.],\n",
    "              [-1., 4.,  0., -1.],\n",
    "              [-1., 0.,  4., -1.],\n",
    "              [0., -1., -1., 4.]])\n",
    "B = np.array([30.,60.,40.,70.])\n",
    "A1=np.copy(A)\n",
    "B1=np.copy(B)\n",
    "n=len(B)\n",
    "print('\\n',A,'\\n')\n",
    "print('\\n',B,'\\n')\n",
    "for k in range(0,n-1):\n",
    "    for i in range(k+1,n):\n",
    "        mult= A[i,k]/A[k,k]\n",
    "        for j in range(k,n):\n",
    "            A[i,j]-=mult*A[k,j]\n",
    "        B[i] -=mult*B[k]\n",
    "x=np.zeros(n)\n",
    "x[n-1]=B[n-1]/A[n-1,n-1]\n",
    "for i in range(n-2,-1,-1):\n",
    "    suma_j=0\n",
    "    for j in range(i+1,n):\n",
    "        suma_j += A[i,j]*x[j]\n",
    "        x[i]=(B[i]-suma_j)/A[i,i]\n",
    "\n",
    "print(\"\\nLas soluciones al sistema son\\n\")\n",
    "print(np.linalg.solve(A,B))"
   ]
  },
  {
   "cell_type": "markdown",
   "id": "038a8e8c",
   "metadata": {},
   "source": [
    "# 5. Programe el pivoteo parcial en el algoritmo de eliminación gaussiana. Utilice este nuevo programa para resolver el ejercicio anterior. Compare los resultados."
   ]
  },
  {
   "cell_type": "code",
   "execution_count": 13,
   "id": "4bbfbb71",
   "metadata": {},
   "outputs": [
    {
     "name": "stdout",
     "output_type": "stream",
     "text": [
      "\n",
      " [[ 0. -1. -1.  0.]\n",
      " [-1.  4.  0. -1.]\n",
      " [-1.  0.  4. -1.]\n",
      " [ 0. -1. -1.  4.]] \n",
      "\n",
      "\n",
      " [30. 60. 40. 70.] \n",
      "\n",
      "\n",
      "Las soluciones al sistema son\n",
      "\n",
      "[-120.   -12.5  -17.5   10. ]\n"
     ]
    }
   ],
   "source": [
    "import numpy as np\n",
    "\n",
    "A = np.array([[0., -1., -1.,  0.], # Ponemos 0 en a11 para que se realice el pivoteo\n",
    "              [-1., 4.,  0., -1.],\n",
    "              [-1., 0.,  4., -1.],\n",
    "              [0., -1., -1., 4.]])\n",
    "B = np.array([30.,60.,40.,70.])\n",
    "A1=np.copy(A)\n",
    "B1=np.copy(B)\n",
    "n=len(B)\n",
    "print('\\n',A,'\\n')\n",
    "print('\\n',B,'\\n')\n",
    "for k in range(n-1):\n",
    "    \n",
    "    \n",
    "        # Elemento de pivote más grande incluido k\n",
    "        \n",
    "        maxindex = abs(A[k:,k]).argmax() + k\n",
    "        if A[maxindex, k] == 0:\n",
    "            raise ValueError(\"\\nLa Matriz es singular (no tiene solución)\\n\")\n",
    "            \n",
    "        # Intercambiar filas\n",
    "        \n",
    "        \n",
    "        if maxindex != k:\n",
    "            A[[k,maxindex]] = A[[maxindex, k]]\n",
    "            B[[k,maxindex]] = B[[maxindex, k]]\n",
    "            \n",
    "for k in range(0,n-1):\n",
    "    for i in range(k+1,n):\n",
    "        mult= A[i,k]/A[k,k]\n",
    "        for j in range(k,n):\n",
    "            A[i,j]-=mult*A[k,j]\n",
    "        B[i] -=mult*B[k]\n",
    "x=np.zeros(n)\n",
    "x[n-1]=B[n-1]/A[n-1,n-1]\n",
    "for i in range(n-2,-1,-1):\n",
    "    suma_j=0\n",
    "    for j in range(i+1,n):\n",
    "        suma_j += A[i,j]*x[j]\n",
    "        x[i]=(B[i]-suma_j)/A[i,i]\n",
    "\n",
    "print(\"\\nLas soluciones al sistema son\\n\")\n",
    "print(np.linalg.solve(A,B))"
   ]
  },
  {
   "cell_type": "markdown",
   "id": "42961562",
   "metadata": {},
   "source": [
    "# Los resultados son muy diferentes a los obtenidos en el ejercicio 4."
   ]
  },
  {
   "cell_type": "code",
   "execution_count": null,
   "id": "268b920d",
   "metadata": {},
   "outputs": [],
   "source": []
  }
 ],
 "metadata": {
  "kernelspec": {
   "display_name": "Python 3",
   "language": "python",
   "name": "python3"
  },
  "language_info": {
   "codemirror_mode": {
    "name": "ipython",
    "version": 3
   },
   "file_extension": ".py",
   "mimetype": "text/x-python",
   "name": "python",
   "nbconvert_exporter": "python",
   "pygments_lexer": "ipython3",
   "version": "3.8.8"
  }
 },
 "nbformat": 4,
 "nbformat_minor": 5
}
